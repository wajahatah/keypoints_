{
 "cells": [
  {
   "cell_type": "code",
   "execution_count": 1,
   "metadata": {},
   "outputs": [],
   "source": [
    "import os\n",
    "\n",
    "def rearrange_keypoints(input_folder, output_folder):\n",
    "    \"\"\"\n",
    "    Rearranges key points in annotation files from the input folder\n",
    "    and saves the modified files in the output folder.\n",
    "    \"\"\"\n",
    "    if not os.path.exists(output_folder):\n",
    "        os.makedirs(output_folder)\n",
    "    \n",
    "    for filename in os.listdir(input_folder):\n",
    "        input_path = os.path.join(input_folder, filename)\n",
    "        output_path = os.path.join(output_folder, filename)\n",
    "\n",
    "        with open(input_path, 'r') as file:\n",
    "            lines = file.readlines()\n",
    "\n",
    "        modified_annotations = []\n",
    "        for line in lines:\n",
    "            # values = list(map(float, line.strip().split()))\n",
    "            values = line.strip().split()\n",
    "\n",
    "            # Extract basic annotation details\n",
    "            class_id = int(values[0])\n",
    "            center_x, center_y, frame_height, frame_width = map(float, values[1:5])\n",
    "            # center_x, center_y = values[1:3]\n",
    "            # frame_height, frame_width = values[3:5]\n",
    "            \n",
    "            # Extract keypoints\n",
    "            # keypoints = values[5:]\n",
    "            keypoints=[]\n",
    "            for i in range(5, len(values),3):\n",
    "                x,y,confidence = values[i:i+3]\n",
    "                keypoints.append((float(x),float(y),int(confidence)))\n",
    "\n",
    "            head = keypoints[0]\n",
    "            left_ear = keypoints[1]\n",
    "            right_ear = keypoints[2]\n",
    "            neck = keypoints[3]\n",
    "            right_shoulder = keypoints[4]\n",
    "            left_shoulder = keypoints[5]\n",
    "            left_elbow = keypoints[6]\n",
    "            right_elbow = keypoints[7]\n",
    "            right_hand = keypoints[8]\n",
    "            left_hand = keypoints[9]\n",
    "            \n",
    "            # Rearrange keypoints\n",
    "            rearranged_keypoints = [\n",
    "                head, \n",
    "                neck,\n",
    "                left_ear, \n",
    "                right_ear,\n",
    "                left_shoulder, \n",
    "                left_elbow, \n",
    "                left_hand,\n",
    "                right_shoulder, \n",
    "                right_elbow,\n",
    "                right_hand\n",
    "            ]\n",
    "            \n",
    "            # Prepare the modified line\n",
    "            # modified_line = f\"{class_id} {center_x:.6f} {center_y:.6f} {frame_height:.6f} {frame_width:.6f} \" + \\\n",
    "            #                 \" \".join(f\"{kp:.6f}\" for kp in rearranged_keypoints) + \"\\n\"\n",
    "            # modified_annotations.append(modified_line)\n",
    "            modified_line = (\n",
    "                    f\"{class_id} {center_x:.6f} {center_y:.6f} {frame_height:.6f} {frame_width:.6f} \" +\n",
    "                    \" \".join(\n",
    "                        f\"{kp[0]:.6f} {kp[1]:.6f} {kp[2]}\" for kp in rearranged_keypoints\n",
    "                    ) + \"\\n\"\n",
    "                )\n",
    "            modified_annotations.append(modified_line)\n",
    "\n",
    "        # Save modified annotations\n",
    "        with open(output_path, 'w') as file:\n",
    "            file.writelines(modified_annotations)\n",
    "\n",
    "\n",
    "\n"
   ]
  },
  {
   "cell_type": "code",
   "execution_count": 9,
   "metadata": {},
   "outputs": [
    {
     "name": "stdout",
     "output_type": "stream",
     "text": [
      "Rearrangement complete. Modified files saved to output folder.\n"
     ]
    }
   ],
   "source": [
    "input_folder = \"C:/Users/LAMBDA THETA/Downloads/keypoints/b5_85/labels/train\"  # Folder containing original annotation files\n",
    "output_folder = \"C:/Users/LAMBDA THETA/Downloads/keypoints/b5_85/labels/train1\"  # Folder to save modified annotation files\n",
    "\n",
    "# Call the function\n",
    "rearrange_keypoints(input_folder, output_folder)\n",
    "\n",
    "print(\"Rearrangement complete. Modified files saved to output folder.\")"
   ]
  },
  {
   "cell_type": "code",
   "execution_count": 10,
   "metadata": {},
   "outputs": [
    {
     "name": "stdout",
     "output_type": "stream",
     "text": [
      "Rearrangement complete. Modified files saved to output folder.\n"
     ]
    }
   ],
   "source": [
    "input_folder = \"C:/Users/LAMBDA THETA/Downloads/keypoints/b5_85/labels/train\"  # Folder containing original annotation files\n",
    "output_folder = \"C:/Users/LAMBDA THETA/Downloads/keypoints/b5_85/labels/train1\"  # Folder to save modified annotation files\n",
    "\n",
    "# Call the function\n",
    "rearrange_keypoints(input_folder, output_folder)\n",
    "\n",
    "print(\"Rearrangement complete. Modified files saved to output folder.\")"
   ]
  },
  {
   "cell_type": "code",
   "execution_count": 11,
   "metadata": {},
   "outputs": [
    {
     "name": "stdout",
     "output_type": "stream",
     "text": [
      "Processed folder: b5_86\n",
      "Processed folder: b5_87\n",
      "Processed folder: b5_88\n",
      "Processed folder: b5_89\n",
      "Processed folder: b5_90\n",
      "Processed folder: b5_91\n",
      "Processed folder: b5_92\n",
      "Processed folder: b5_93\n",
      "Processed folder: b5_94\n",
      "Processed folder: b5_95\n",
      "Processed folder: b5_96\n",
      "Processed folder: b5_97\n",
      "Processed folder: b5_98\n",
      "Processed folder: b5_99\n",
      "Processed folder: b5_100\n",
      "Processed folder: b5_101\n",
      "Processed folder: b5_102\n",
      "Processed folder: b5_103\n",
      "Processed folder: b5_104\n",
      "Processed folder: b5_105\n",
      "Processed folder: b5_106\n",
      "Processed folder: b5_107\n",
      "Processed folder: b5_108\n",
      "Processed folder: b5_109\n",
      "Processed folder: b5_110\n",
      "Processed folder: b5_111\n",
      "Processed folder: b5_112\n",
      "Processed folder: b5_113\n",
      "Processed folder: b5_114\n",
      "Processed folder: b5_115\n",
      "Processed folder: b5_116\n",
      "Processed folder: b5_117\n",
      "Processed folder: b5_118\n",
      "Processed folder: b5_119\n",
      "Processed folder: b5_120\n",
      "Processed folder: b5_121\n",
      "Processed folder: b5_122\n",
      "Processed folder: b5_123\n",
      "Processed folder: b5_124\n",
      "Processed folder: b5_125\n",
      "Processed folder: b5_126\n",
      "Processed folder: b5_127\n",
      "Processed folder: b5_128\n",
      "Processed folder: b5_129\n",
      "Processed folder: b5_130\n",
      "Processed folder: b5_131\n",
      "Processed folder: b5_132\n",
      "Processed folder: b5_133\n"
     ]
    }
   ],
   "source": [
    "base_folder = \"C:/Users/LAMBDA THETA/Downloads/keypoints\"\n",
    "output_base_folder = \"C:/Users/LAMBDA THETA/Downloads/keypoints\"\n",
    "\n",
    "for folder_number in range(86, 134):  # Range includes b5_78 to b5_129\n",
    "    input_folder = os.path.join(base_folder, f\"b5_{folder_number}/labels/train\")\n",
    "    output_folder = os.path.join(output_base_folder, f\"b5_{folder_number}/labels/train1\")\n",
    "\n",
    "    if os.path.exists(input_folder):  # Process only if the folder exists\n",
    "        rearrange_keypoints(input_folder, output_folder)\n",
    "        print(f\"Processed folder: b5_{folder_number}\")"
   ]
  },
  {
   "cell_type": "code",
   "execution_count": 13,
   "metadata": {},
   "outputs": [],
   "source": [
    "import os\n",
    "\n",
    "def rename_folders(directory):\n",
    "    \"\"\"\n",
    "    Renames folders: 'train' to 'train_o' and 'train1' to 'train' in the given directory.\n",
    "    \"\"\"\n",
    "    for root, dirs, files in os.walk(directory):\n",
    "        for folder in dirs:\n",
    "            folder_path = os.path.join(root, folder)\n",
    "            \n",
    "            # Rename 'train' to 'train_o'\n",
    "            if folder == \"train\":\n",
    "                new_folder_path = os.path.join(root, \"train_o\")\n",
    "                os.rename(folder_path, new_folder_path)\n",
    "                print(f\"Renamed '{folder_path}' to '{new_folder_path}'\")\n",
    "            \n",
    "            # Rename 'train1' to 'train'\n",
    "            elif folder == \"train1\":\n",
    "                new_folder_path = os.path.join(root, \"train\")\n",
    "                os.rename(folder_path, new_folder_path)\n",
    "                print(f\"Renamed '{folder_path}' to '{new_folder_path}'\")\n",
    "\n",
    "# Replace this with your directory containing the folders\n",
    "base_directory = \"C:/Users/LAMBDA THETA/Downloads/keypoints\"\n",
    "\n",
    "# Call the function\n",
    "# rename_folders(base_directory)\n",
    "\n",
    "# print(\"Folder renaming completed.\")\n"
   ]
  },
  {
   "cell_type": "code",
   "execution_count": 15,
   "metadata": {},
   "outputs": [
    {
     "name": "stdout",
     "output_type": "stream",
     "text": [
      "Renamed 'C:/Users/LAMBDA THETA/Downloads/keypoints\\b5_78/labels\\train' to 'C:/Users/LAMBDA THETA/Downloads/keypoints\\b5_78/labels\\train_o'\n",
      "Renamed 'C:/Users/LAMBDA THETA/Downloads/keypoints\\b5_78/labels\\train1' to 'C:/Users/LAMBDA THETA/Downloads/keypoints\\b5_78/labels\\train'\n"
     ]
    },
    {
     "ename": "PermissionError",
     "evalue": "[Errno 13] Permission denied: 'C:/Users/LAMBDA THETA/Downloads/keypoints\\\\b5_78/labels\\\\train'",
     "output_type": "error",
     "traceback": [
      "\u001b[1;31m---------------------------------------------------------------------------\u001b[0m",
      "\u001b[1;31mPermissionError\u001b[0m                           Traceback (most recent call last)",
      "Cell \u001b[1;32mIn[15], line 9\u001b[0m\n\u001b[0;32m      6\u001b[0m rename_folders(input_folder)\n\u001b[0;32m      8\u001b[0m \u001b[38;5;28;01mif\u001b[39;00m os\u001b[38;5;241m.\u001b[39mpath\u001b[38;5;241m.\u001b[39mexists(input_folder):  \u001b[38;5;66;03m# Process only if the folder exists\u001b[39;00m\n\u001b[1;32m----> 9\u001b[0m     \u001b[43mrearrange_keypoints\u001b[49m\u001b[43m(\u001b[49m\u001b[43minput_folder\u001b[49m\u001b[43m,\u001b[49m\u001b[43m \u001b[49m\u001b[43moutput_folder\u001b[49m\u001b[43m)\u001b[49m\n\u001b[0;32m     10\u001b[0m     \u001b[38;5;28mprint\u001b[39m(\u001b[38;5;124mf\u001b[39m\u001b[38;5;124m\"\u001b[39m\u001b[38;5;124mProcessed folder: b5_\u001b[39m\u001b[38;5;132;01m{\u001b[39;00mfolder_number\u001b[38;5;132;01m}\u001b[39;00m\u001b[38;5;124m\"\u001b[39m)\n",
      "Cell \u001b[1;32mIn[1], line 15\u001b[0m, in \u001b[0;36mrearrange_keypoints\u001b[1;34m(input_folder, output_folder)\u001b[0m\n\u001b[0;32m     12\u001b[0m input_path \u001b[38;5;241m=\u001b[39m os\u001b[38;5;241m.\u001b[39mpath\u001b[38;5;241m.\u001b[39mjoin(input_folder, filename)\n\u001b[0;32m     13\u001b[0m output_path \u001b[38;5;241m=\u001b[39m os\u001b[38;5;241m.\u001b[39mpath\u001b[38;5;241m.\u001b[39mjoin(output_folder, filename)\n\u001b[1;32m---> 15\u001b[0m \u001b[38;5;28;01mwith\u001b[39;00m \u001b[38;5;28;43mopen\u001b[39;49m\u001b[43m(\u001b[49m\u001b[43minput_path\u001b[49m\u001b[43m,\u001b[49m\u001b[43m \u001b[49m\u001b[38;5;124;43m'\u001b[39;49m\u001b[38;5;124;43mr\u001b[39;49m\u001b[38;5;124;43m'\u001b[39;49m\u001b[43m)\u001b[49m \u001b[38;5;28;01mas\u001b[39;00m file:\n\u001b[0;32m     16\u001b[0m     lines \u001b[38;5;241m=\u001b[39m file\u001b[38;5;241m.\u001b[39mreadlines()\n\u001b[0;32m     18\u001b[0m modified_annotations \u001b[38;5;241m=\u001b[39m []\n",
      "File \u001b[1;32mc:\\Anaconda\\envs\\ypose\\lib\\site-packages\\IPython\\core\\interactiveshell.py:324\u001b[0m, in \u001b[0;36m_modified_open\u001b[1;34m(file, *args, **kwargs)\u001b[0m\n\u001b[0;32m    317\u001b[0m \u001b[38;5;28;01mif\u001b[39;00m file \u001b[38;5;129;01min\u001b[39;00m {\u001b[38;5;241m0\u001b[39m, \u001b[38;5;241m1\u001b[39m, \u001b[38;5;241m2\u001b[39m}:\n\u001b[0;32m    318\u001b[0m     \u001b[38;5;28;01mraise\u001b[39;00m \u001b[38;5;167;01mValueError\u001b[39;00m(\n\u001b[0;32m    319\u001b[0m         \u001b[38;5;124mf\u001b[39m\u001b[38;5;124m\"\u001b[39m\u001b[38;5;124mIPython won\u001b[39m\u001b[38;5;124m'\u001b[39m\u001b[38;5;124mt let you open fd=\u001b[39m\u001b[38;5;132;01m{\u001b[39;00mfile\u001b[38;5;132;01m}\u001b[39;00m\u001b[38;5;124m by default \u001b[39m\u001b[38;5;124m\"\u001b[39m\n\u001b[0;32m    320\u001b[0m         \u001b[38;5;124m\"\u001b[39m\u001b[38;5;124mas it is likely to crash IPython. If you know what you are doing, \u001b[39m\u001b[38;5;124m\"\u001b[39m\n\u001b[0;32m    321\u001b[0m         \u001b[38;5;124m\"\u001b[39m\u001b[38;5;124myou can use builtins\u001b[39m\u001b[38;5;124m'\u001b[39m\u001b[38;5;124m open.\u001b[39m\u001b[38;5;124m\"\u001b[39m\n\u001b[0;32m    322\u001b[0m     )\n\u001b[1;32m--> 324\u001b[0m \u001b[38;5;28;01mreturn\u001b[39;00m io_open(file, \u001b[38;5;241m*\u001b[39margs, \u001b[38;5;241m*\u001b[39m\u001b[38;5;241m*\u001b[39mkwargs)\n",
      "\u001b[1;31mPermissionError\u001b[0m: [Errno 13] Permission denied: 'C:/Users/LAMBDA THETA/Downloads/keypoints\\\\b5_78/labels\\\\train'"
     ]
    }
   ],
   "source": [
    "base_directory = \"C:/Users/LAMBDA THETA/Downloads/keypoints\"\n",
    "\n",
    "for folder_number in range(79, 134):  # Range includes b5_78 to b5_129\n",
    "    input_folder = os.path.join(base_folder, f\"b5_{folder_number}/labels\")\n",
    "    # output_folder = os.path.join(output_base_folder, f\"b5_{folder_number}/labels/train1\")\n",
    "    rename_folders(input_folder)\n",
    "\n",
    "    if os.path.exists(input_folder):  # Process only if the folder exists\n",
    "        # rearrange_keypoints(input_folder, output_folder)\n",
    "        print(f\"Processed folder: b5_{folder_number}\")"
   ]
  },
  {
   "cell_type": "code",
   "execution_count": null,
   "metadata": {},
   "outputs": [],
   "source": []
  }
 ],
 "metadata": {
  "kernelspec": {
   "display_name": "ypose",
   "language": "python",
   "name": "python3"
  },
  "language_info": {
   "codemirror_mode": {
    "name": "ipython",
    "version": 3
   },
   "file_extension": ".py",
   "mimetype": "text/x-python",
   "name": "python",
   "nbconvert_exporter": "python",
   "pygments_lexer": "ipython3",
   "version": "3.10.15"
  }
 },
 "nbformat": 4,
 "nbformat_minor": 2
}
